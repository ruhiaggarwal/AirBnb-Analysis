{
 "cells": [
  {
   "cell_type": "code",
   "execution_count": 1,
   "metadata": {},
   "outputs": [],
   "source": [
    "import sys\n",
    "import json\n",
    "import csv\n",
    "import yaml\n",
    "\n",
    "import importlib\n",
    "\n",
    "import pandas as pd\n",
    "import numpy as np\n",
    "\n",
    "import matplotlib as mpl\n",
    "import matplotlib.pyplot as plt\n",
    "import os\n",
    "from dotenv import load_dotenv\n",
    "\n",
    "from datetime import time\n",
    "from datetime import date\n",
    "from datetime import datetime\n",
    "\n",
    "import pprint\n",
    "\n",
    "import psycopg2\n",
    "from sqlalchemy import create_engine, text as sql_text\n",
    "\n",
    "# Create an utilities file util.py in a folder benchmarking and import it\n",
    "sys.path.append('helper_functions/')\n",
    "# import util as util\n",
    "import util"
   ]
  },
  {
   "cell_type": "code",
   "execution_count": 2,
   "metadata": {},
   "outputs": [],
   "source": [
    "from pymongo import MongoClient\n",
    "\n",
    "client = MongoClient(\"mongodb://localhost:27017/\")"
   ]
  },
  {
   "cell_type": "code",
   "execution_count": 3,
   "metadata": {},
   "outputs": [
    {
     "name": "stdout",
     "output_type": "stream",
     "text": [
      "The list of all databases currently in the MongoDB client is:\n",
      "['admin', 'airbnb', 'company', 'config', 'local', 'test']\n",
      "\n",
      "The list of all collections in the airbnb database is:\n",
      "['reviewsm', 'calendar', 'listings', 'listings_test', 'listings_with_calendar', 'listings3', 'listings_with_reviewsm', 'listings_with_reviews', 'reviews', 'listings_with_reviews_and_cal', 'listings_with_reviews_m']\n"
     ]
    }
   ],
   "source": [
    "db = client.airbnb\n",
    "\n",
    "print('The list of all databases currently in the MongoDB client is:')\n",
    "print(client.list_database_names())\n",
    "\n",
    "print('\\nThe list of all collections in the airbnb database is:')\n",
    "print(db.list_collection_names())"
   ]
  },
  {
   "cell_type": "code",
   "execution_count": 4,
   "metadata": {},
   "outputs": [],
   "source": [
    "superlative_words = [\n",
    "    'astounding', 'amazing', 'awesome', 'excellent', 'exceptional',\n",
    "    'extraordinary', 'fantastic', 'great', 'magnificent', 'splendid', 'wonderful'\n",
    "]\n",
    "\n",
    "super_negative_words = ['aweful', 'horrible', 'terrible']"
   ]
  },
  {
   "cell_type": "code",
   "execution_count": 5,
   "metadata": {},
   "outputs": [],
   "source": [
    "def time_diff(time1, time2):\n",
    "    return (time2-time1).total_seconds()\n",
    "\n",
    "def create_query_condition(words):\n",
    "    return {\"reviews.comments\": {\"$regex\": \"|\".join(words), \"$options\": \"i\"}}  "
   ]
  },
  {
   "cell_type": "code",
   "execution_count": 6,
   "metadata": {},
   "outputs": [
    {
     "name": "stdout",
     "output_type": "stream",
     "text": [
      "Query 5 pos condition: {'reviews.comments': {'$regex': 'astounding|amazing|awesome|excellent|exceptional|extraordinary|fantastic|great|magnificent|splendid|wonderful', '$options': 'i'}}\n"
     ]
    }
   ],
   "source": [
    "# 1. Query 5 pos\n",
    "query_5_pos_condition = create_query_condition(superlative_words)\n",
    "print(f'Query 5 pos condition: {query_5_pos_condition}')"
   ]
  },
  {
   "cell_type": "code",
   "execution_count": 7,
   "metadata": {},
   "outputs": [
    {
     "name": "stdout",
     "output_type": "stream",
     "text": [
      "The time taken for the selection was 4.4e-05 seconds.\n",
      "The time taken to create the list was 21.360767 seconds.\n",
      "Number of listings (Query 5 pos): 25196\n"
     ]
    }
   ],
   "source": [
    "time1 = datetime.now()\n",
    "result_5_pos = db.listings_with_reviews_and_cal.find(query_5_pos_condition)\n",
    "time2 = datetime.now()\n",
    "print(f'The time taken for the selection was {time_diff(time1, time2)} seconds.')\n",
    "\n",
    "time3 = datetime.now()\n",
    "listings_5_pos = list(result_5_pos)\n",
    "time4 = datetime.now()\n",
    "print(f'The time taken to create the list was {time_diff(time3, time4)} seconds.')\n",
    "\n",
    "print(f'Number of listings (Query 5 pos): {len(listings_5_pos)}')"
   ]
  },
  {
   "cell_type": "code",
   "execution_count": 8,
   "metadata": {},
   "outputs": [
    {
     "name": "stdout",
     "output_type": "stream",
     "text": [
      "{'query': 'Query 5 pos', 'count': 25196, 'selection_time': 4.4e-05, 'list_creation_time': 21.360767}\n"
     ]
    }
   ],
   "source": [
    "query_5_pos_info = {\n",
    "    \"query\": \"Query 5 pos\",\n",
    "    \"count\": len(listings_5_pos),\n",
    "    \"selection_time\": time_diff(time1, time2),\n",
    "    \"list_creation_time\": time_diff(time3, time4),\n",
    "}\n",
    "\n",
    "print(query_5_pos_info)"
   ]
  },
  {
   "cell_type": "code",
   "execution_count": 9,
   "metadata": {},
   "outputs": [
    {
     "name": "stdout",
     "output_type": "stream",
     "text": [
      "The time taken for the selection was 0.0002 seconds.\n",
      "The time taken to create the list was 9.986688 seconds.\n",
      "Number of listings (Query 5 neg): 1672\n"
     ]
    }
   ],
   "source": [
    "# 2. Query 5 neg\n",
    "query_5_neg_condition = create_query_condition(super_negative_words)\n",
    "\n",
    "time1 = datetime.now()\n",
    "result_5_neg = db.listings_with_reviews_and_cal.find(query_5_neg_condition)\n",
    "time2 = datetime.now()\n",
    "print(f'The time taken for the selection was {time_diff(time1, time2)} seconds.')\n",
    "\n",
    "time3 = datetime.now()\n",
    "listings_5_neg = list(result_5_neg)\n",
    "time4 = datetime.now()\n",
    "print(f'The time taken to create the list was {time_diff(time3, time4)} seconds.')\n",
    "\n",
    "print(f'Number of listings (Query 5 neg): {len(listings_5_neg)}')"
   ]
  },
  {
   "cell_type": "code",
   "execution_count": 10,
   "metadata": {},
   "outputs": [
    {
     "name": "stdout",
     "output_type": "stream",
     "text": [
      "The time taken for the selection was 0.000156 seconds.\n",
      "The time taken to create the list was 24.142911 seconds.\n",
      "Number of listings (Query 6 pos): 19228\n"
     ]
    }
   ],
   "source": [
    "# 3. Query 6 pos\n",
    "\n",
    "def convert_date_str_to_datetime(dt):\n",
    "    if dt is None:\n",
    "        return None\n",
    "    elif pd.isnull(dt):  \n",
    "        return None\n",
    "    elif dt != dt:\n",
    "        return None        \n",
    "    elif dt == '':\n",
    "        return None\n",
    "    else:\n",
    "        year = int(dt[0:4])\n",
    "        month = int(dt[5:7])\n",
    "        day = int(dt[8:10])\n",
    "        # print(year, month, day)\n",
    "        temp = datetime(year, month, day)\n",
    "        ts = temp.timestamp()\n",
    "        new_dt = datetime.fromtimestamp(ts)\n",
    "        return new_dt\n",
    "\n",
    "availability = convert_date_str_to_datetime('2025-02-01')\n",
    "\n",
    "\n",
    "# Query 6 pos: Extend Query 5 pos by adding two more conditions\n",
    "query_6_pos_condition = {\n",
    "    \"$and\": [\n",
    "        query_5_pos_condition,\n",
    "        {\"average_price\": {\"$lte\": 200}},\n",
    "        {\"last_available_date\": {\"$gte\": availability}}\n",
    "    ]\n",
    "}\n",
    "\n",
    "time1 = datetime.now()\n",
    "result_6_pos = db.listings_with_reviews_and_cal.find(query_6_pos_condition)\n",
    "time2 = datetime.now()\n",
    "print(f'The time taken for the selection was {time_diff(time1, time2)} seconds.')\n",
    "\n",
    "time3 = datetime.now()\n",
    "listings_6_pos = list(result_6_pos)\n",
    "time4 = datetime.now()\n",
    "print(f'The time taken to create the list was {time_diff(time3, time4)} seconds.')\n",
    "\n",
    "print(f'Number of listings (Query 6 pos): {len(listings_6_pos)}')"
   ]
  },
  {
   "cell_type": "code",
   "execution_count": 11,
   "metadata": {},
   "outputs": [
    {
     "name": "stdout",
     "output_type": "stream",
     "text": [
      "The time taken for the selection was 0.00012 seconds.\n",
      "The time taken to create the list was 3.424146 seconds.\n",
      "Number of listings (Query 6 neg): 1281\n"
     ]
    }
   ],
   "source": [
    "query_6_neg_condition = {\n",
    "    \"$and\": [\n",
    "        query_5_neg_condition,\n",
    "        {\"average_price\": {\"$lte\": 200}},\n",
    "        {\"last_available_date\": {\"$gte\": availability}}\n",
    "    ]\n",
    "}\n",
    "\n",
    "time1 = datetime.now()\n",
    "result_6_neg = db.listings_with_reviews_and_cal.find(query_6_neg_condition)\n",
    "time2 = datetime.now()\n",
    "print(f'The time taken for the selection was {time_diff(time1, time2)} seconds.')\n",
    "\n",
    "time3 = datetime.now()\n",
    "listings_6_neg = list(result_6_neg)\n",
    "time4 = datetime.now()\n",
    "print(f'The time taken to create the list was {time_diff(time3, time4)} seconds.')\n",
    "\n",
    "print(f'Number of listings (Query 6 neg): {len(listings_6_neg)}')"
   ]
  },
  {
   "cell_type": "code",
   "execution_count": 12,
   "metadata": {},
   "outputs": [
    {
     "name": "stdout",
     "output_type": "stream",
     "text": [
      "Index created: reviews.comments_text\n",
      "Time taken to create index: 19.758829 seconds\n"
     ]
    }
   ],
   "source": [
    "# 5. Create index\n",
    "time1 = datetime.now()\n",
    "index_name = db.listings_with_reviews_and_cal.create_index({\"reviews.comments\": \"text\"})\n",
    "time2 = datetime.now()\n",
    "index_creation_time = time_diff(time1, time2)\n",
    "print(f'Index created: {index_name}')\n",
    "print(f'Time taken to create index: {index_creation_time} seconds')"
   ]
  },
  {
   "cell_type": "code",
   "execution_count": 13,
   "metadata": {},
   "outputs": [
    {
     "name": "stdout",
     "output_type": "stream",
     "text": [
      "\n",
      "Index information:\n",
      "_id_\n",
      "\n",
      "reviews.comments_text\n",
      "\n",
      "List of indexes:\n",
      "SON([('v', 2), ('key', SON([('_id', 1)])), ('name', '_id_')])\n",
      "\n",
      "SON([('v', 2), ('key', SON([('_fts', 'text'), ('_ftsx', 1)])), ('name', 'reviews.comments_text'), ('weights', SON([('reviews.comments', 1)])), ('default_language', 'english'), ('language_override', 'language'), ('textIndexVersion', 3)])\n",
      "\n"
     ]
    }
   ],
   "source": [
    "cursor = db.listings_with_reviews_and_cal.index_information()\n",
    "cursor1 = db.listings_with_reviews_and_cal.list_indexes()\n",
    "\n",
    "print(\"\\nIndex information:\")\n",
    "for i in cursor:\n",
    "    print(i)\n",
    "    print()\n",
    "\n",
    "print(\"List of indexes:\")\n",
    "for i in cursor1:\n",
    "    print(i)\n",
    "    print()\n"
   ]
  },
  {
   "cell_type": "code",
   "execution_count": 14,
   "metadata": {},
   "outputs": [],
   "source": [
    "# 6. Query 7 pos\n",
    "search_string = \" \".join(superlative_words)\n",
    "condition_ind = {'$text': {'$search': search_string}}"
   ]
  },
  {
   "cell_type": "code",
   "execution_count": 15,
   "metadata": {},
   "outputs": [
    {
     "name": "stdout",
     "output_type": "stream",
     "text": [
      "The time taken for the selection was 0.000105 seconds.\n",
      "The time taken to create the list was 48.490824 seconds.\n",
      "Number of listings (Query 7 pos): 25197\n"
     ]
    }
   ],
   "source": [
    "time1 = datetime.now()\n",
    "result_7_pos = db.listings_with_reviews_and_cal.find(condition_ind)\n",
    "time2 = datetime.now()\n",
    "print(f'The time taken for the selection was {time_diff(time1, time2)} seconds.')\n",
    "\n",
    "time3 = datetime.now()\n",
    "listings_7_pos = list(result_7_pos)\n",
    "time4 = datetime.now()\n",
    "print(f'The time taken to create the list was {time_diff(time3, time4)} seconds.')\n",
    "print(f'Number of listings (Query 7 pos): {len(listings_7_pos)}')"
   ]
  },
  {
   "cell_type": "code",
   "execution_count": 16,
   "metadata": {},
   "outputs": [
    {
     "name": "stdout",
     "output_type": "stream",
     "text": [
      "Number of listings (Query 7 pos): 25197\n",
      "{'query': 'Query 7 pos', 'count': 25197, 'selection_time': 0.000105, 'list_creation_time': 48.490824}\n"
     ]
    }
   ],
   "source": [
    "num_listings_7_pos = len(listings_7_pos)\n",
    "print(f'Number of listings (Query 7 pos): {num_listings_7_pos}')\n",
    "\n",
    "query_7_pos_info = {\n",
    "    \"query\": \"Query 7 pos\",\n",
    "    \"count\": num_listings_7_pos,\n",
    "    \"selection_time\": time_diff(time1, time2),\n",
    "    \"list_creation_time\": time_diff(time3, time4)\n",
    "}\n",
    "\n",
    "print(query_7_pos_info)"
   ]
  },
  {
   "cell_type": "code",
   "execution_count": 17,
   "metadata": {},
   "outputs": [],
   "source": [
    "# 7. Query 7 neg\n",
    "search_string_neg = \" \".join(super_negative_words)\n",
    "condition_ind_neg = {'$text': {'$search': search_string_neg}}"
   ]
  },
  {
   "cell_type": "code",
   "execution_count": 18,
   "metadata": {},
   "outputs": [
    {
     "name": "stdout",
     "output_type": "stream",
     "text": [
      "The time taken for the selection was 0.000123 seconds.\n",
      "The time taken to create the list was 1.724286 seconds.\n",
      "Number of listings (Query 7 neg): 1930\n"
     ]
    }
   ],
   "source": [
    "time1 = datetime.now()\n",
    "result_7_neg = db.listings_with_reviews_and_cal.find(condition_ind_neg)\n",
    "time2 = datetime.now()\n",
    "print(f'The time taken for the selection was {time_diff(time1, time2)} seconds.')\n",
    "\n",
    "time3 = datetime.now()\n",
    "listings_7_neg = list(result_7_neg)\n",
    "time4 = datetime.now()\n",
    "print(f'The time taken to create the list was {time_diff(time3, time4)} seconds.')\n",
    "print(f'Number of listings (Query 7 neg): {len(listings_7_neg)}')"
   ]
  },
  {
   "cell_type": "code",
   "execution_count": 19,
   "metadata": {},
   "outputs": [
    {
     "name": "stdout",
     "output_type": "stream",
     "text": [
      "Number of listings (Query 7 neg): 1930\n",
      "{'query': 'Query 7 neg', 'count': 1930, 'selection_time': 0.000123, 'list_creation_time': 1.724286}\n"
     ]
    }
   ],
   "source": [
    "num_listings_7_neg = len(listings_7_neg)\n",
    "print(f'Number of listings (Query 7 neg): {num_listings_7_neg}')\n",
    "\n",
    "query_7_neg_info = {\n",
    "    \"query\": \"Query 7 neg\",\n",
    "    \"count\": num_listings_7_neg,\n",
    "    \"selection_time\": time_diff(time1, time2),\n",
    "    \"list_creation_time\": time_diff(time3, time4)\n",
    "}\n",
    "\n",
    "print(query_7_neg_info)"
   ]
  },
  {
   "cell_type": "code",
   "execution_count": null,
   "metadata": {},
   "outputs": [],
   "source": []
  }
 ],
 "metadata": {
  "kernelspec": {
   "display_name": "Python 3 (ipykernel)",
   "language": "python",
   "name": "python3"
  },
  "language_info": {
   "codemirror_mode": {
    "name": "ipython",
    "version": 3
   },
   "file_extension": ".py",
   "mimetype": "text/x-python",
   "name": "python",
   "nbconvert_exporter": "python",
   "pygments_lexer": "ipython3",
   "version": "3.11.5"
  }
 },
 "nbformat": 4,
 "nbformat_minor": 2
}
